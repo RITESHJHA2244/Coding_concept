{
 "cells": [
  {
   "cell_type": "code",
   "execution_count": 3,
   "metadata": {},
   "outputs": [
    {
     "name": "stdout",
     "output_type": "stream",
     "text": [
      "[12, 25, 34, 50, 67, 89]\n"
     ]
    }
   ],
   "source": [
    "# bubble sort implementation\n",
    "\n",
    "def bubble_sort(data_list):\n",
    "    for r in range (1,len(data_list)):\n",
    "        for i in range(len(data_list)-r):\n",
    "            if data_list[i]>data_list[i+1]:\n",
    "                data_list[i],data_list[i+1]=data_list[i+1],data_list[i]\n",
    "    return data_list\n",
    "l=[34,67,12,89,25,50]\n",
    "bubble_sort(l)\n",
    "print(l)\n"
   ]
  },
  {
   "cell_type": "code",
   "execution_count": 6,
   "metadata": {},
   "outputs": [
    {
     "name": "stdout",
     "output_type": "stream",
     "text": [
      "[12, 25, 34, 50, 67, 89]\n"
     ]
    }
   ],
   "source": [
    "# modified  bubble sort implementation\n",
    "\n",
    "def Modified_bubble_sort(data_list):\n",
    "    flage=False\n",
    "    for r in range (1,len(data_list)):\n",
    "        flage=False\n",
    "        for i in range(len(data_list)-r):\n",
    "            if data_list[i]>data_list[i+1]:\n",
    "                data_list[i],data_list[i+1]=data_list[i+1],data_list[i]\n",
    "                flage=True\n",
    "        if not flage:\n",
    "            break\n",
    "    return data_list\n",
    "l=[34,67,12,89,25,50]\n",
    "Modified_bubble_sort(l)\n",
    "print(l)"
   ]
  },
  {
   "cell_type": "code",
   "execution_count": 3,
   "metadata": {},
   "outputs": [
    {
     "name": "stdout",
     "output_type": "stream",
     "text": [
      "[13, 21, 35, 64, 72, 89]\n"
     ]
    }
   ],
   "source": [
    "# selection sort concept implementation\n",
    "\n",
    "def selection_sort(list1):\n",
    "    n=len(list1)\n",
    "    for i in range(n):\n",
    "        min_index=i\n",
    "        for j in range(i+1,n):\n",
    "            if list1[j]<list1[min_index]:\n",
    "                min_index=j\n",
    "        list1[i],list1[min_index]=list1[min_index],list1[i]\n",
    "l1=[64,35,89,21,72,13]\n",
    "selection_sort(l1)\n",
    "print(l1)"
   ]
  },
  {
   "cell_type": "code",
   "execution_count": null,
   "metadata": {},
   "outputs": [
    {
     "name": "stdout",
     "output_type": "stream",
     "text": [
      "[11, 14, 18, 24, 37, 41, 60, 82]\n"
     ]
    }
   ],
   "source": [
    "# insertion sort concept implementation\n",
    "def insertion_sort(list2):\n",
    "    for i in range(1,len(list2)):\n",
    "        temp=list2[i]\n",
    "        j=i-1\n",
    "        while j>=0 and temp<list2[j]:\n",
    "            list2[j+1]=list2[j]\n",
    "            j-=1\n",
    "        list2[j+1]=temp\n",
    "mylist=[24,37,11,14,60,82,18,41]\n",
    "insertion_sort(mylist)\n",
    "print(mylist)\n"
   ]
  },
  {
   "cell_type": "code",
   "execution_count": 2,
   "metadata": {},
   "outputs": [
    {
     "data": {
      "text/plain": [
       "[13, 21, 35, 64, 72, 89]"
      ]
     },
     "execution_count": 2,
     "metadata": {},
     "output_type": "execute_result"
    }
   ],
   "source": [
    "# quick sort concept implementation\n",
    "def Quick_sort(lst3):\n",
    "    if len(lst3)<=1:\n",
    "        return lst3\n",
    "    else:\n",
    "        pivot=lst3[0]\n",
    "        lesser=[x for x in lst3[1:] if x<=pivot]\n",
    "        greter=[x for x in lst3[1:] if x>pivot]\n",
    "        return Quick_sort(lesser)+[pivot]+Quick_sort(greter)\n",
    "lst3=[64,35,89,21,72,13]\n",
    "Quick_sort(lst3) "
   ]
  },
  {
   "cell_type": "code",
   "execution_count": 8,
   "metadata": {},
   "outputs": [
    {
     "name": "stdout",
     "output_type": "stream",
     "text": [
      "[7, 16, 20, 29, 34, 56, 71, 75, 83, 88, 90, 92, 142]\n"
     ]
    }
   ],
   "source": [
    "# merge sort concept implementation\n",
    "def merge_sort(list3):\n",
    "    if len(list3)>1:\n",
    "        mid=len(list3)//2\n",
    "        leftlist=list3[:mid]\n",
    "        rightlist=list3[mid:]\n",
    "        merge_sort(leftlist)\n",
    "        merge_sort(rightlist)\n",
    "\n",
    "        i=j=k=0\n",
    "        while i <len(leftlist) and j<len(rightlist):\n",
    "            if leftlist[i]<rightlist[j]:\n",
    "                list3[k]=leftlist[i]\n",
    "                i+=1\n",
    "            else:\n",
    "                list3[k]=rightlist[j]\n",
    "                j+=1\n",
    "            k+=1\n",
    "\n",
    "        while i<len(leftlist):\n",
    "            list3[k]=leftlist[i]\n",
    "            i+=1\n",
    "            k+=1\n",
    "        while j<len(rightlist):\n",
    "            list3[k]=rightlist[j]\n",
    "            j+=1\n",
    "            k+=1\n",
    "\n",
    "mylist=[75,29,83,142,16,90,56,34,20,71,88,92,7]\n",
    "merge_sort(mylist)\n",
    "print(mylist)\n"
   ]
  }
 ],
 "metadata": {
  "kernelspec": {
   "display_name": "Python 3",
   "language": "python",
   "name": "python3"
  },
  "language_info": {
   "codemirror_mode": {
    "name": "ipython",
    "version": 3
   },
   "file_extension": ".py",
   "mimetype": "text/x-python",
   "name": "python",
   "nbconvert_exporter": "python",
   "pygments_lexer": "ipython3",
   "version": "3.12.5"
  }
 },
 "nbformat": 4,
 "nbformat_minor": 2
}
