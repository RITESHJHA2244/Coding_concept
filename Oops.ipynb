{
 "cells": [
  {
   "cell_type": "code",
   "execution_count": 1,
   "metadata": {},
   "outputs": [
    {
     "name": "stdout",
     "output_type": "stream",
     "text": [
      "karan\n",
      "karan\n"
     ]
    }
   ],
   "source": [
    "# oops by shradha khapra\n",
    "class Student:\n",
    "    name=\"karan\"\n",
    "\n",
    "s1=Student()\n",
    "print(s1.name)\n",
    "\n",
    "s2=Student()\n",
    "print(s2.name)\n"
   ]
  },
  {
   "cell_type": "code",
   "execution_count": 2,
   "metadata": {},
   "outputs": [
    {
     "name": "stdout",
     "output_type": "stream",
     "text": [
      "blue\n",
      "mercdes\n"
     ]
    }
   ],
   "source": [
    "class Car:\n",
    "    color=\"blue\"\n",
    "    brand=\"mercdes\"\n",
    "\n",
    "car1=Car()\n",
    "print(car1.color)\n",
    "print(car1.brand)\n"
   ]
  },
  {
   "cell_type": "code",
   "execution_count": 3,
   "metadata": {},
   "outputs": [
    {
     "name": "stdout",
     "output_type": "stream",
     "text": [
      "adding new student in database..\n",
      "karan 98\n",
      "welcome students karan\n",
      "adding new student in database..\n",
      "arjun 56\n"
     ]
    }
   ],
   "source": [
    "class Student:\n",
    "    # @default constructors\n",
    "    collage_name=\"abd collage\"\n",
    "    name=\"anonymous\"      #class attributes\n",
    "    \n",
    "    def __init__(self,fullname,marks):\n",
    "        self.name=fullname              #object attr> class attr\n",
    "        self.marks=marks\n",
    "        print('adding new student in database..')\n",
    "    \n",
    "    # parameterize constructors\n",
    "    \n",
    "    def __init__(self,fullname,marks):\n",
    "        self.name=fullname\n",
    "        self.marks=marks\n",
    "        print('adding new student in database..')\n",
    "\n",
    "    def welcome(self):\n",
    "        print(\"welcome students\",self.name)\n",
    "\n",
    "    def get_marks(self):\n",
    "        return self.marks\n",
    "\n",
    "s1=Student(\"karan\",98)\n",
    "print(s1.name,s1.marks)\n",
    "s1.welcome()\n",
    "s1.get_marks()\n",
    "\n",
    "s2=Student(\"arjun\",56)\n",
    "print(s2.name,s2.marks)\n",
    "\n",
    "\n",
    "\n",
    "\n"
   ]
  },
  {
   "cell_type": "code",
   "execution_count": 4,
   "metadata": {},
   "outputs": [
    {
     "data": {
      "text/plain": [
       "('hi', 'ironman', 'your average marks is:', 33.0)"
      ]
     },
     "execution_count": 4,
     "metadata": {},
     "output_type": "execute_result"
    }
   ],
   "source": [
    "class Student:\n",
    "    def __init__(self,name,marks):\n",
    "        self.name=name\n",
    "        self.marks=marks\n",
    "\n",
    "    def get_avg(self):\n",
    "        sum=0\n",
    "        for val in self.marks:\n",
    "            sum+=val\n",
    "            return('hi',self.name,\"your average marks is:\",sum/3)\n",
    "\n",
    "\n",
    "s1=Student(\"ritesh\",[99,99,97])\n",
    "s1.get_avg()\n",
    "\n",
    "s1.name=\"ironman\"\n",
    "s1.get_avg()"
   ]
  },
  {
   "cell_type": "code",
   "execution_count": 5,
   "metadata": {},
   "outputs": [
    {
     "data": {
      "text/plain": [
       "('hi', 'ironman', 'your average marks is:', 33.0)"
      ]
     },
     "execution_count": 5,
     "metadata": {},
     "output_type": "execute_result"
    }
   ],
   "source": [
    "# @static method\n",
    "class Student:\n",
    "    def __init__(self,name,marks):\n",
    "        self.name=name\n",
    "        self.marks=marks\n",
    "    \n",
    "    def get_avg(self):\n",
    "        sum=0\n",
    "        for val in self.marks:\n",
    "            sum+=val\n",
    "            return('hi',self.name,\"your average marks is:\",sum/3)\n",
    "\n",
    "\n",
    "s1=Student(\"ritesh\",[99,99,97])\n",
    "s1.get_avg()\n",
    "\n",
    "s1.name=\"ironman\"\n",
    "s1.get_avg()"
   ]
  },
  {
   "cell_type": "code",
   "execution_count": 6,
   "metadata": {},
   "outputs": [
    {
     "name": "stdout",
     "output_type": "stream",
     "text": [
      "car startrd..\n"
     ]
    }
   ],
   "source": [
    "# abstraction method\n",
    "#  hiding the implementation of the class \n",
    "\n",
    "class Car:\n",
    "    def __init__(self):\n",
    "        self.acc=False\n",
    "        self.brk=False\n",
    "        self.clutch=False\n",
    "\n",
    "    def start(self):\n",
    "        self.clutch=True\n",
    "        self.acc=True\n",
    "        print('car startrd..')\n",
    "\n",
    "\n",
    "car1=Car()\n",
    "car1.start()\n",
    "\n"
   ]
  },
  {
   "cell_type": "code",
   "execution_count": 7,
   "metadata": {},
   "outputs": [
    {
     "name": "stdout",
     "output_type": "stream",
     "text": [
      "10000\n",
      "12345\n",
      "Rs. 1000 was debited\n",
      "total balance= 9000\n",
      "Rs. 500 was debited\n",
      "total balance= 9500\n",
      "Rs. 40000 was debited\n",
      "total balance= 49500\n"
     ]
    }
   ],
   "source": [
    "class Account:\n",
    "    def __init__(self,bal,acc):\n",
    "        self.bal=bal\n",
    "        self.acc_no=acc\n",
    "\n",
    "    def debit(self,amount):\n",
    "        self.bal-=amount\n",
    "        print('Rs.',amount,'was debited')\n",
    "        print('total balance=',self.get_balance())\n",
    "\n",
    "\n",
    "    def credit(self,amount):\n",
    "            self.bal+=amount\n",
    "            print('Rs.',amount,'was debited')\n",
    "            print('total balance=',self.get_balance())\n",
    "        \n",
    "    def get_balance(self):\n",
    "            return self.bal\n",
    "\n",
    "\n",
    "\n",
    "acc1=Account(10000,12345)\n",
    "print(acc1.bal)\n",
    "print(acc1.acc_no)\n",
    "\n",
    "\n",
    "acc1.debit(1000)\n",
    "acc1.credit(500)\n",
    "acc1.credit(40000)"
   ]
  },
  {
   "cell_type": "code",
   "execution_count": 8,
   "metadata": {},
   "outputs": [
    {
     "name": "stdout",
     "output_type": "stream",
     "text": [
      "ritesh\n"
     ]
    }
   ],
   "source": [
    "# inheritense concept of oops \n",
    "\n",
    "# del s1.name\n",
    "class Student:\n",
    "    def __init__(self,name):\n",
    "        self.name=name\n",
    "s1=Student(\"ritesh\")\n",
    "# del s1\n",
    "print(s1.name)\n"
   ]
  },
  {
   "cell_type": "code",
   "execution_count": 9,
   "metadata": {},
   "outputs": [
    {
     "name": "stdout",
     "output_type": "stream",
     "text": [
      "abcde\n"
     ]
    }
   ],
   "source": [
    "class Account:\n",
    "    def __init__(self,acc_no,acc_pass):\n",
    "        self.acc_no=acc_no\n",
    "        self.__acc_pass=acc_pass\n",
    "\n",
    "    def reset_pass(self):\n",
    "        print(self.__acc_pass)\n",
    "\n",
    "acc1=Account(\"12345\",\"abcde\")\n",
    "# print(acc1.acc_no,acc1.__acc_pass) double __ lagane ke bad sirf class ke inside wale functioj hi call ke payenge.\n",
    "\n",
    "acc1.reset_pass()\n",
    "    "
   ]
  },
  {
   "cell_type": "code",
   "execution_count": 10,
   "metadata": {},
   "outputs": [
    {
     "name": "stdout",
     "output_type": "stream",
     "text": [
      "car started..\n"
     ]
    }
   ],
   "source": [
    "# inheritance concept by shradha didi\n",
    "class Car:\n",
    "    colour=\"black\"\n",
    "    @staticmethod\n",
    "    def start():\n",
    "        print(\"car started..\")\n",
    "    \n",
    "    @staticmethod\n",
    "\n",
    "    def stop():\n",
    "        print(\"car stpoed.\")\n",
    "\n",
    "class Toyotacar(Car):\n",
    "    def __init__(self,brand):\n",
    "        self.brand=brand\n",
    "\n",
    "class Fortuner(Toyotacar):\n",
    "    def __init__(self,type):\n",
    "        self.type=type\n",
    "\n",
    "car1=Fortuner(\"diesel\")\n",
    "car1.start()\n"
   ]
  },
  {
   "cell_type": "code",
   "execution_count": 11,
   "metadata": {},
   "outputs": [
    {
     "name": "stdout",
     "output_type": "stream",
     "text": [
      "welcome to class C\n",
      "welcome to class A\n",
      "welcome to class B\n"
     ]
    }
   ],
   "source": [
    "# multiple inheritance\n",
    "class A:\n",
    "    varA=\"welcome to class A\"\n",
    "class B:\n",
    "    varB=\"welcome to class B\"\n",
    "\n",
    "class C(A,B):\n",
    "    varc=\"welcome to class C\"\n",
    "\n",
    "c1=C()\n",
    "print(c1.varc)\n",
    "print(c1.varA)\n",
    "print(c1.varB)\n",
    "    "
   ]
  },
  {
   "cell_type": "code",
   "execution_count": 12,
   "metadata": {},
   "outputs": [
    {
     "name": "stdout",
     "output_type": "stream",
     "text": [
      "electric\n",
      "car  statred..\n",
      "None\n"
     ]
    }
   ],
   "source": [
    "#  super method concept\n",
    "class Car:\n",
    "    def __init__(self,type):\n",
    "        self.type=type\n",
    "\n",
    "    @staticmethod\n",
    "    def stop():\n",
    "        print(\"car stopped..\")\n",
    "\n",
    "    @staticmethod\n",
    "    def start():\n",
    "        print(\"car  statred..\")\n",
    "class Toyotacar(Car):\n",
    "    def __init__(self,name,type):\n",
    "        super().__init__(type)\n",
    "        self.name=name\n",
    "        \n",
    "car1=Toyotacar(\"prius\",\"electric\")\n",
    "print(car1.type)\n",
    "print(car1.start())\n",
    "\n"
   ]
  },
  {
   "cell_type": "code",
   "execution_count": 3,
   "metadata": {},
   "outputs": [
    {
     "name": "stdout",
     "output_type": "stream",
     "text": [
      "98.0%\n"
     ]
    }
   ],
   "source": [
    "# @property\n",
    "\n",
    "class Student:\n",
    "    def __init__(self,phy,che,math):\n",
    "        self.phy=phy\n",
    "        self.che=che\n",
    "        self.math=math\n",
    "\n",
    "    @property\n",
    "    def percentage(self):\n",
    "        return str((self.phy + self.che +self.math)/3) + \"%\"\n",
    "        \n",
    "stu1=Student(98,97,99)\n",
    "print(stu1.percentage)\n",
    "stu1.phy=86\n",
    "# stu1.percentage()\n",
    "                       "
   ]
  },
  {
   "cell_type": "code",
   "execution_count": 9,
   "metadata": {},
   "outputs": [
    {
     "name": "stdout",
     "output_type": "stream",
     "text": [
      "hi ritesh your average marks is: 83.66666666666667\n"
     ]
    }
   ],
   "source": [
    "class Student:\n",
    "    def __init__(self,name,marks):\n",
    "        self.name=name\n",
    "        self.marks=marks\n",
    "\n",
    "    def Average_marks(self):\n",
    "        sum=0\n",
    "        for i in self.marks:\n",
    "              sum+=i\n",
    "        print(\"hi\",self.name,\"your average marks is:\",sum/3)\n",
    "s1=Student(\"ritesh\",[80,85,86])\n",
    "s1.Average_marks()"
   ]
  },
  {
   "cell_type": "code",
   "execution_count": 21,
   "metadata": {},
   "outputs": [
    {
     "name": "stdout",
     "output_type": "stream",
     "text": [
      "10000\n",
      "12345\n",
      "Rs 1000 was debited\n",
      "total balance is : 9000\n",
      "Rs 500 was credited\n",
      "total balance is : 9500\n"
     ]
    }
   ],
   "source": [
    "class Accoun:\n",
    "    def __init__(self,balance,account):\n",
    "        self.balance=balance\n",
    "        self.account=account\n",
    "\n",
    "    def debit(self,amount):\n",
    "        self.balance-=amount\n",
    "        print(\"Rs\",amount, \"was debited\")\n",
    "\n",
    "        print(\"total balance is :\" , self.get_balance())\n",
    "\n",
    "\n",
    "    def credit(self,amount):\n",
    "        self.balance+=amount\n",
    "        print(\"Rs\",amount ,\"was credited\")\n",
    "        print(\"total balance is :\", self.get_balance())\n",
    "\n",
    "\n",
    "    def get_balance(self):\n",
    "        return self.balance\n",
    "        \n",
    "\n",
    "acc1=Accoun(10000,12345)\n",
    "print(acc1.balance)\n",
    "print(acc1.account)\n",
    "acc1.debit(1000)\n",
    "acc1.credit(500)\n"
   ]
  },
  {
   "cell_type": "code",
   "execution_count": null,
   "metadata": {},
   "outputs": [],
   "source": []
  }
 ],
 "metadata": {
  "kernelspec": {
   "display_name": "Python 3",
   "language": "python",
   "name": "python3"
  },
  "language_info": {
   "codemirror_mode": {
    "name": "ipython",
    "version": 3
   },
   "file_extension": ".py",
   "mimetype": "text/x-python",
   "name": "python",
   "nbconvert_exporter": "python",
   "pygments_lexer": "ipython3",
   "version": "3.12.5"
  }
 },
 "nbformat": 4,
 "nbformat_minor": 2
}
