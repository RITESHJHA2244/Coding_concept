{
 "cells": [
  {
   "cell_type": "code",
   "execution_count": 3,
   "id": "3d4e9561",
   "metadata": {},
   "outputs": [
    {
     "name": "stdout",
     "output_type": "stream",
     "text": [
      "Sorted after deletion: [8, 10, 20, 30, 50]\n"
     ]
    }
   ],
   "source": [
    "# heap sort with max heap \n",
    "def heapify(a, n, i):\n",
    "    l, r = 2*i + 1, 2*i + 2\n",
    "    largest = i\n",
    "    if l < n and a[l] > a[largest]:\n",
    "        largest = l\n",
    "    if r < n and a[r] > a[largest]:\n",
    "        largest = r\n",
    "    if largest != i:\n",
    "        a[i], a[largest] = a[largest], a[i]\n",
    "        heapify(a, n, largest)\n",
    "\n",
    "def heap_sort_with_delete(a, val):\n",
    "    a = a.copy()  # Optional: avoid modifying original list\n",
    "    n = len(a)\n",
    "\n",
    "    # Build max heap\n",
    "    for i in range(n//2 - 1, -1, -1):\n",
    "        heapify(a, n, i)\n",
    "\n",
    "    # Delete the value if present\n",
    "    if val in a:\n",
    "        i = a.index(val)\n",
    "        a[i], a[-1] = a[-1], a[i]\n",
    "        a.pop()\n",
    "        for j in range(len(a)//2 - 1, -1, -1):  # Rebuild heap\n",
    "            heapify(a, len(a), j)\n",
    "\n",
    "    # Heap sort\n",
    "    for i in range(len(a)-1, 0, -1):\n",
    "        a[0], a[i] = a[i], a[0]\n",
    "        heapify(a, i, 0)\n",
    "\n",
    "    return a\n",
    "\n",
    "arr = [50, 30, 20, 15, 10, 8]\n",
    "print(\"Sorted after deletion:\", heap_sort_with_delete(arr,15))\n",
    "\n"
   ]
  }
 ],
 "metadata": {
  "kernelspec": {
   "display_name": "Python 3",
   "language": "python",
   "name": "python3"
  },
  "language_info": {
   "codemirror_mode": {
    "name": "ipython",
    "version": 3
   },
   "file_extension": ".py",
   "mimetype": "text/x-python",
   "name": "python",
   "nbconvert_exporter": "python",
   "pygments_lexer": "ipython3",
   "version": "3.12.5"
  }
 },
 "nbformat": 4,
 "nbformat_minor": 5
}
