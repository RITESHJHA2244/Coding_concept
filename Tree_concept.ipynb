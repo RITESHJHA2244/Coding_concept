{
 "cells": [
  {
   "cell_type": "code",
   "execution_count": null,
   "id": "d8544504",
   "metadata": {},
   "outputs": [
    {
     "name": "stdout",
     "output_type": "stream",
     "text": [
      "Preorder Traversal:\n",
      "1 2 4 5 3 "
     ]
    }
   ],
   "source": [
    "# preorder traversal code \n",
    "class Node:\n",
    "    def __init__(self, data):\n",
    "        self.data = data\n",
    "        self.left = None\n",
    "        self.right = None\n",
    "\n",
    "def preorder(root):\n",
    "    if root:\n",
    "        print(root.data, end=\" \")\n",
    "        preorder(root.left)\n",
    "        preorder(root.right)\n",
    "\n",
    "# Creating sample tree\n",
    "root = Node(1)\n",
    "root.left = Node(2)\n",
    "root.right = Node(3)\n",
    "root.left.left = Node(4)\n",
    "root.left.right = Node(5)\n",
    "\n",
    "print(\"Preorder Traversal:\")\n",
    "preorder(root)\n"
   ]
  },
  {
   "cell_type": "code",
   "execution_count": null,
   "id": "418ed5eb",
   "metadata": {},
   "outputs": [
    {
     "name": "stdout",
     "output_type": "stream",
     "text": [
      "Inorder Traversal:\n",
      "4 2 5 1 3 "
     ]
    }
   ],
   "source": [
    "# Inorder traversal code \n",
    "\n",
    "class Node:\n",
    "    def __init__(self, data):\n",
    "        self.data = data\n",
    "        self.left = None\n",
    "        self.right = None\n",
    "\n",
    "def inorder(root):\n",
    "    if root:\n",
    "        inorder(root.left)\n",
    "        print(root.data, end=\" \")\n",
    "        inorder(root.right)\n",
    "\n",
    "# Creating sample tree\n",
    "root = Node(1)\n",
    "root.left = Node(2)\n",
    "root.right = Node(3)\n",
    "root.left.left = Node(4)\n",
    "root.left.right = Node(5)\n",
    "\n",
    "print(\"Inorder Traversal:\")\n",
    "inorder(root)\n"
   ]
  },
  {
   "cell_type": "code",
   "execution_count": null,
   "id": "d1fff75b",
   "metadata": {},
   "outputs": [
    {
     "name": "stdout",
     "output_type": "stream",
     "text": [
      "Postorder Traversal:\n",
      "4 5 2 3 1 "
     ]
    }
   ],
   "source": [
    "# postorder traversal code \n",
    "\n",
    "class Node:\n",
    "    def __init__(self, data):\n",
    "        self.data = data\n",
    "        self.left = None\n",
    "        self.right = None\n",
    "\n",
    "def postorder(root):\n",
    "    if root:\n",
    "        postorder(root.left)\n",
    "        postorder(root.right)\n",
    "        print(root.data, end=\" \")\n",
    "\n",
    "# Creating sample tree\n",
    "root = Node(1)\n",
    "root.left = Node(2)\n",
    "root.right = Node(3)\n",
    "root.left.left = Node(4)\n",
    "root.left.right = Node(5)\n",
    "\n",
    "print(\"Postorder Traversal:\")\n",
    "postorder(root)\n"
   ]
  }
 ],
 "metadata": {
  "kernelspec": {
   "display_name": "Python 3",
   "language": "python",
   "name": "python3"
  },
  "language_info": {
   "codemirror_mode": {
    "name": "ipython",
    "version": 3
   },
   "file_extension": ".py",
   "mimetype": "text/x-python",
   "name": "python",
   "nbconvert_exporter": "python",
   "pygments_lexer": "ipython3",
   "version": "3.12.5"
  }
 },
 "nbformat": 4,
 "nbformat_minor": 5
}
