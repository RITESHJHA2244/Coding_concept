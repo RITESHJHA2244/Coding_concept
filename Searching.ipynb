{
 "cells": [
  {
   "cell_type": "code",
   "execution_count": 13,
   "metadata": {},
   "outputs": [
    {
     "data": {
      "text/plain": [
       "'found at index 8'"
      ]
     },
     "execution_count": 13,
     "metadata": {},
     "output_type": "execute_result"
    }
   ],
   "source": [
    "# linear search\n",
    "def linear_search(lst,target):\n",
    "    for i in range(len(lst)):\n",
    "        if lst[i]==target:\n",
    "            return f\"found at index {i}\"\n",
    "    return \"not found\"\n",
    "lst = [5, 7, 8, 6, 3, 2, 1, 5, 8942, 45, 12, 45, 6, 57, 8, 987, 2]\n",
    "target = 8942\n",
    "linear_search(lst,target)"
   ]
  },
  {
   "cell_type": "code",
   "execution_count": null,
   "metadata": {},
   "outputs": [
    {
     "data": {
      "text/plain": [
       "' found at index 16'"
      ]
     },
     "execution_count": 19,
     "metadata": {},
     "output_type": "execute_result"
    }
   ],
   "source": [
    "# binary search\n",
    "def binary_search(lst,target):\n",
    "    low=0\n",
    "    high=len(lst)-1\n",
    "    lst.sort()\n",
    "    \n",
    "\n",
    "    while low<=high:\n",
    "        mid=(low+high)//2\n",
    "\n",
    "\n",
    "        if lst[mid]==target:\n",
    "            return f\" found at index {mid}\"\n",
    "        elif lst[mid]<target:\n",
    "            low =mid+1\n",
    "\n",
    "        else:\n",
    "            high=mid-1\n",
    "    return \"target not found \"\n",
    "\n",
    "lst = [5, 7, 8, 6, 3, 2, 1, 5, 8942, 45, 12, 45, 6, 57, 8, 987, 2]\n",
    "target = 8942\n",
    "binary_search(lst,target)"
   ]
  }
 ],
 "metadata": {
  "kernelspec": {
   "display_name": "Python 3",
   "language": "python",
   "name": "python3"
  },
  "language_info": {
   "codemirror_mode": {
    "name": "ipython",
    "version": 3
   },
   "file_extension": ".py",
   "mimetype": "text/x-python",
   "name": "python",
   "nbconvert_exporter": "python",
   "pygments_lexer": "ipython3",
   "version": "3.12.5"
  }
 },
 "nbformat": 4,
 "nbformat_minor": 2
}
