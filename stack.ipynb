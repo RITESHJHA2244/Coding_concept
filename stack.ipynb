{
 "cells": [
  {
   "cell_type": "code",
   "execution_count": null,
   "metadata": {},
   "outputs": [],
   "source": [
    "# 4. Given a string s representing an expression containing various types of brackets:\n",
    "# {}, (), and [], the task is to determine whether the brackets in the expression are balanced or not.\n",
    "# A balanced expression is one where every opening bracket has a corresponding closing bracket in \n",
    "# the correct order."
   ]
  },
  {
   "cell_type": "code",
   "execution_count": 9,
   "metadata": {},
   "outputs": [
    {
     "name": "stdout",
     "output_type": "stream",
     "text": [
      "[9, 8, 4, 4, 2, 1]\n"
     ]
    }
   ],
   "source": [
    "# reverse problem\n",
    "\n",
    "# Original list\n",
    "lst = [1, 2, 4, 4, 8, 9]\n",
    "\n",
    "# Stack to store elements\n",
    "stack = []\n",
    "\n",
    "# Push all elements to the stack\n",
    "for item in lst:\n",
    "    stack.append(item)\n",
    "\n",
    "# Pop elements from the stack to get the reversed list\n",
    "reversed_lst = []\n",
    "while stack:\n",
    "    reversed_lst.append(stack.pop())\n",
    "\n",
    "# Print the reversed list\n",
    "print(reversed_lst)\n"
   ]
  },
  {
   "cell_type": "code",
   "execution_count": 2,
   "metadata": {},
   "outputs": [
    {
     "data": {
      "text/plain": [
       "4"
      ]
     },
     "execution_count": 2,
     "metadata": {},
     "output_type": "execute_result"
    }
   ],
   "source": [
    "#  Implementation of stack using list\n",
    "class Stack:\n",
    "    def __init__(self):\n",
    "        self.st=[]\n",
    "\n",
    "    def is_empty(self):\n",
    "        return len(self.st)==0\n",
    "    \n",
    "    def push(self,data):\n",
    "        self.st.append(data)\n",
    "\n",
    "    def pop(self):\n",
    "        if not self.is_empty():\n",
    "           return self.st.pop()\n",
    "        else:\n",
    "            print(\"Now your stack is empty\")\n",
    "\n",
    "    def peek(self):\n",
    "        if not self.is_empty():\n",
    "            return \"top element in the stack is:\",self.st[-1]\n",
    "        else:\n",
    "            print(\"Now your stack is empty\")\n",
    "\n",
    "    def size(self):\n",
    "        return len(self.st)\n",
    "    \n",
    "s1=Stack()\n",
    "s1.push(1)\n",
    "s1.push(2)\n",
    "s1.push(3)\n",
    "s1.push(4)\n",
    "s1.push(5)\n",
    "s1.peek()\n",
    "s1.size()\n",
    "s1.pop()\n",
    "s1.peek()\n",
    "s1.size()"
   ]
  },
  {
   "cell_type": "code",
   "execution_count": 10,
   "metadata": {},
   "outputs": [
    {
     "data": {
      "text/plain": [
       "4"
      ]
     },
     "execution_count": 10,
     "metadata": {},
     "output_type": "execute_result"
    }
   ],
   "source": [
    "# Implementation of Stack by inheriting list class \n",
    "\n",
    "class Stack(list):\n",
    "    def __init__(self):\n",
    "        super().__init__()\n",
    "\n",
    "    def is_empty(self):\n",
    "        return len(self)==0\n",
    "    \n",
    "    def push(self,data):\n",
    "        self.append(data)\n",
    "\n",
    "    def pop(self):\n",
    "        if not self.is_empty():\n",
    "           return super().pop()\n",
    "        else:\n",
    "            print(\"stack is empty\")\n",
    "    def peek(self):\n",
    "        if not self.is_empty():\n",
    "            return self[-1]\n",
    "        \n",
    "    def size(self):\n",
    "        return len(self)\n",
    "\n",
    "s1=Stack()\n",
    "s1.push(1)\n",
    "s1.push(2)\n",
    "s1.push(3)\n",
    "s1.push(4)\n",
    "s1.push(5)\n",
    "s1.peek()\n",
    "s1.size()\n",
    "s1.pop()\n",
    "s1.peek()\n",
    "# s1.size()"
   ]
  },
  {
   "cell_type": "code",
   "execution_count": 51,
   "metadata": {},
   "outputs": [
    {
     "name": "stdout",
     "output_type": "stream",
     "text": [
      "total no. of element in the stack: 3\n",
      "top  of element in the stack: 30\n",
      "popped  element in the stack: 30\n",
      "total no. of element in the stack: 2\n"
     ]
    }
   ],
   "source": [
    "# Implementation of Stack using linked list concept\n",
    "\n",
    "class Node:\n",
    "    def __init__(self,item=None,next=None):\n",
    "        self.item=item\n",
    "        self.next=next\n",
    "class Stack:\n",
    "    def __init__(self):\n",
    "        self.start=None\n",
    "        self.item_count=0\n",
    "\n",
    "    def is_empty(self): \n",
    "        return self.start==None\n",
    "    \n",
    "    def push(self,data):\n",
    "        n=Node(data,self.start)\n",
    "        self.start=n\n",
    "        self.item_count+=1\n",
    "    \n",
    "    def pop(self):\n",
    "        if not self.is_empty():\n",
    "            data=self.start.item\n",
    "            self.start=self.start.next\n",
    "            self.item_count-=1\n",
    "            return data\n",
    "        else:\n",
    "            print(\"stack is empty\")\n",
    "\n",
    "    def peek(self):\n",
    "        if not self.is_empty():\n",
    "            return self.start.item\n",
    "        else:\n",
    "            print(\"stack is empty\")\n",
    "\n",
    "\n",
    "    def size(self):\n",
    "        return self.item_count\n",
    "    \n",
    "s1=Stack()\n",
    "s1.push(10)\n",
    "s1.push(20)\n",
    "s1.push(30)\n",
    "print(\"total no. of element in the stack:\",s1.size())\n",
    "print(\"top  of element in the stack:\",s1.peek())\n",
    "print(\"popped  element in the stack:\",s1.pop())\n",
    "print(\"total no. of element in the stack:\",s1.size())\n",
    "\n",
    "    "
   ]
  },
  {
   "cell_type": "code",
   "execution_count": null,
   "metadata": {},
   "outputs": [],
   "source": [
    "# Implementation of Stack by inheriting linked list\n",
    "class Stack():\n",
    "    def __init__(self):\n",
    "        self.item_count=0\n",
    "        super().__init__()\n",
    "    def is_empty(self):\n",
    "        return super().is_empty()\n",
    "    def push(self,data):\n",
    "        self.insert_at_start(data)\n",
    "        self.item_count+=1\n",
    "    def pop(self):\n",
    "        if not self.is_empty():\n",
    "            self.delete_first()\n",
    "            self.item_count-=1\n",
    "        else:\n",
    "            print(\"stack is empty\")\n",
    "\n",
    "    def peek(self):\n",
    "        if not self.is_empty():\n",
    "            return self.start.item\n",
    "        else:\n",
    "            print(\"stack is empty\")\n",
    "\n",
    "    def size(self):\n",
    "        return self.item_count\n",
    "\n",
    "s1=Stack()\n",
    "\n",
    "\n"
   ]
  }
 ],
 "metadata": {
  "kernelspec": {
   "display_name": "Python 3",
   "language": "python",
   "name": "python3"
  },
  "language_info": {
   "codemirror_mode": {
    "name": "ipython",
    "version": 3
   },
   "file_extension": ".py",
   "mimetype": "text/x-python",
   "name": "python",
   "nbconvert_exporter": "python",
   "pygments_lexer": "ipython3",
   "version": "3.12.5"
  }
 },
 "nbformat": 4,
 "nbformat_minor": 2
}
